{
  "cells": [
    {
      "cell_type": "code",
      "execution_count": 6,
      "metadata": {
        "id": "t8wH6dQjC8Lo"
      },
      "outputs": [],
      "source": [
        "import pandas as pd\n",
        "import numpy as np\n",
        "import matplotlib.pyplot as plt\n",
        "from sklearn.pipeline import Pipeline\n",
        "import seaborn as sns\n",
        "\n",
        "from sklearn.model_selection import train_test_split, cross_val_score\n",
        "from sklearn.preprocessing import StandardScaler\n",
        "from sklearn.metrics import mean_squared_error, r2_score\n",
        "\n",
        "# ML models\n",
        "from sklearn.linear_model import LinearRegression, Ridge, Lasso\n",
        "from sklearn.ensemble import RandomForestRegressor, GradientBoostingRegressor\n",
        "from sklearn.tree import DecisionTreeRegressor\n",
        "from sklearn.svm import SVR\n",
        "from xgboost import XGBRegressor"
      ]
    },
    {
      "cell_type": "code",
      "execution_count": 5,
      "metadata": {},
      "outputs": [
        {
          "name": "stdout",
          "output_type": "stream",
          "text": [
            "Collecting matplotlib\n",
            "  Downloading matplotlib-3.10.6-cp311-cp311-win_amd64.whl.metadata (11 kB)\n",
            "Collecting seaborn\n",
            "  Using cached seaborn-0.13.2-py3-none-any.whl.metadata (5.4 kB)\n",
            "Collecting xgboost\n",
            "  Downloading xgboost-3.0.5-py3-none-win_amd64.whl.metadata (2.1 kB)\n",
            "Collecting contourpy>=1.0.1 (from matplotlib)\n",
            "  Downloading contourpy-1.3.3-cp311-cp311-win_amd64.whl.metadata (5.5 kB)\n",
            "Collecting cycler>=0.10 (from matplotlib)\n",
            "  Using cached cycler-0.12.1-py3-none-any.whl.metadata (3.8 kB)\n",
            "Collecting fonttools>=4.22.0 (from matplotlib)\n",
            "  Downloading fonttools-4.60.0-cp311-cp311-win_amd64.whl.metadata (113 kB)\n",
            "Collecting kiwisolver>=1.3.1 (from matplotlib)\n",
            "  Downloading kiwisolver-1.4.9-cp311-cp311-win_amd64.whl.metadata (6.4 kB)\n",
            "Requirement already satisfied: numpy>=1.23 in c:\\users\\jayanth raj g\\anaconda3\\envs\\fastapi-env\\lib\\site-packages (from matplotlib) (2.3.2)\n",
            "Requirement already satisfied: packaging>=20.0 in c:\\users\\jayanth raj g\\anaconda3\\envs\\fastapi-env\\lib\\site-packages (from matplotlib) (25.0)\n",
            "Collecting pillow>=8 (from matplotlib)\n",
            "  Downloading pillow-11.3.0-cp311-cp311-win_amd64.whl.metadata (9.2 kB)\n",
            "Collecting pyparsing>=2.3.1 (from matplotlib)\n",
            "  Using cached pyparsing-3.2.4-py3-none-any.whl.metadata (5.0 kB)\n",
            "Requirement already satisfied: python-dateutil>=2.7 in c:\\users\\jayanth raj g\\anaconda3\\envs\\fastapi-env\\lib\\site-packages (from matplotlib) (2.9.0.post0)\n",
            "Requirement already satisfied: pandas>=1.2 in c:\\users\\jayanth raj g\\anaconda3\\envs\\fastapi-env\\lib\\site-packages (from seaborn) (2.3.2)\n",
            "Requirement already satisfied: scipy in c:\\users\\jayanth raj g\\anaconda3\\envs\\fastapi-env\\lib\\site-packages (from xgboost) (1.16.1)\n",
            "Requirement already satisfied: pytz>=2020.1 in c:\\users\\jayanth raj g\\anaconda3\\envs\\fastapi-env\\lib\\site-packages (from pandas>=1.2->seaborn) (2025.2)\n",
            "Requirement already satisfied: tzdata>=2022.7 in c:\\users\\jayanth raj g\\anaconda3\\envs\\fastapi-env\\lib\\site-packages (from pandas>=1.2->seaborn) (2025.2)\n",
            "Requirement already satisfied: six>=1.5 in c:\\users\\jayanth raj g\\anaconda3\\envs\\fastapi-env\\lib\\site-packages (from python-dateutil>=2.7->matplotlib) (1.17.0)\n",
            "Downloading matplotlib-3.10.6-cp311-cp311-win_amd64.whl (8.1 MB)\n",
            "   ---------------------------------------- 0.0/8.1 MB ? eta -:--:--\n",
            "   ------------ --------------------------- 2.6/8.1 MB 18.9 MB/s eta 0:00:01\n",
            "   ----------------------- ---------------- 4.7/8.1 MB 13.0 MB/s eta 0:00:01\n",
            "   ------------------------- -------------- 5.2/8.1 MB 10.3 MB/s eta 0:00:01\n",
            "   ----------------------------- ---------- 6.0/8.1 MB 9.0 MB/s eta 0:00:01\n",
            "   --------------------------------- ------ 6.8/8.1 MB 6.9 MB/s eta 0:00:01\n",
            "   ------------------------------------- -- 7.6/8.1 MB 6.5 MB/s eta 0:00:01\n",
            "   ---------------------------------------- 8.1/8.1 MB 6.3 MB/s eta 0:00:00\n",
            "Using cached seaborn-0.13.2-py3-none-any.whl (294 kB)\n",
            "Downloading xgboost-3.0.5-py3-none-win_amd64.whl (56.8 MB)\n",
            "   ---------------------------------------- 0.0/56.8 MB ? eta -:--:--\n",
            "    --------------------------------------- 0.8/56.8 MB 3.7 MB/s eta 0:00:16\n",
            "   - -------------------------------------- 1.6/56.8 MB 3.8 MB/s eta 0:00:15\n",
            "   - -------------------------------------- 2.4/56.8 MB 3.7 MB/s eta 0:00:15\n",
            "   -- ------------------------------------- 3.1/56.8 MB 3.7 MB/s eta 0:00:15\n",
            "   -- ------------------------------------- 3.9/56.8 MB 3.7 MB/s eta 0:00:15\n",
            "   --- ------------------------------------ 4.5/56.8 MB 3.6 MB/s eta 0:00:15\n",
            "   --- ------------------------------------ 5.0/56.8 MB 3.5 MB/s eta 0:00:15\n",
            "   --- ------------------------------------ 5.5/56.8 MB 3.3 MB/s eta 0:00:16\n",
            "   ---- ----------------------------------- 6.3/56.8 MB 3.3 MB/s eta 0:00:16\n",
            "   ---- ----------------------------------- 6.8/56.8 MB 3.2 MB/s eta 0:00:16\n",
            "   ----- ---------------------------------- 7.3/56.8 MB 3.2 MB/s eta 0:00:16\n",
            "   ----- ---------------------------------- 8.1/56.8 MB 3.2 MB/s eta 0:00:16\n",
            "   ------ --------------------------------- 8.9/56.8 MB 3.2 MB/s eta 0:00:15\n",
            "   ------ --------------------------------- 9.4/56.8 MB 3.2 MB/s eta 0:00:15\n",
            "   ------- -------------------------------- 10.2/56.8 MB 3.2 MB/s eta 0:00:15\n",
            "   ------- -------------------------------- 11.0/56.8 MB 3.2 MB/s eta 0:00:15\n",
            "   -------- ------------------------------- 11.8/56.8 MB 3.3 MB/s eta 0:00:14\n",
            "   -------- ------------------------------- 12.6/56.8 MB 3.3 MB/s eta 0:00:14\n",
            "   --------- ------------------------------ 13.4/56.8 MB 3.3 MB/s eta 0:00:14\n",
            "   --------- ------------------------------ 13.9/56.8 MB 3.3 MB/s eta 0:00:13\n",
            "   ---------- ----------------------------- 14.9/56.8 MB 3.4 MB/s eta 0:00:13\n",
            "   ----------- ---------------------------- 15.7/56.8 MB 3.4 MB/s eta 0:00:13\n",
            "   ----------- ---------------------------- 16.5/56.8 MB 3.4 MB/s eta 0:00:12\n",
            "   ------------ --------------------------- 17.3/56.8 MB 3.4 MB/s eta 0:00:12\n",
            "   ------------ --------------------------- 18.4/56.8 MB 3.5 MB/s eta 0:00:12\n",
            "   ------------- -------------------------- 19.1/56.8 MB 3.5 MB/s eta 0:00:11\n",
            "   -------------- ------------------------- 20.2/56.8 MB 3.6 MB/s eta 0:00:11\n",
            "   -------------- ------------------------- 21.0/56.8 MB 3.6 MB/s eta 0:00:11\n",
            "   --------------- ------------------------ 21.8/56.8 MB 3.6 MB/s eta 0:00:10\n",
            "   --------------- ------------------------ 22.0/56.8 MB 3.5 MB/s eta 0:00:10\n",
            "   --------------- ------------------------ 22.5/56.8 MB 3.5 MB/s eta 0:00:10\n",
            "   ---------------- ----------------------- 23.1/56.8 MB 3.5 MB/s eta 0:00:10\n",
            "   ---------------- ----------------------- 23.6/56.8 MB 3.4 MB/s eta 0:00:10\n",
            "   ---------------- ----------------------- 24.1/56.8 MB 3.4 MB/s eta 0:00:10\n",
            "   ----------------- ---------------------- 24.6/56.8 MB 3.4 MB/s eta 0:00:10\n",
            "   ----------------- ---------------------- 25.2/56.8 MB 3.4 MB/s eta 0:00:10\n",
            "   ------------------ --------------------- 26.0/56.8 MB 3.3 MB/s eta 0:00:10\n",
            "   ------------------ --------------------- 26.5/56.8 MB 3.3 MB/s eta 0:00:10\n",
            "   ------------------- -------------------- 27.0/56.8 MB 3.3 MB/s eta 0:00:09\n",
            "   ------------------- -------------------- 27.8/56.8 MB 3.3 MB/s eta 0:00:09\n",
            "   ------------------- -------------------- 28.3/56.8 MB 3.3 MB/s eta 0:00:09\n",
            "   -------------------- ------------------- 29.4/56.8 MB 3.3 MB/s eta 0:00:09\n",
            "   --------------------- ------------------ 29.9/56.8 MB 3.3 MB/s eta 0:00:09\n",
            "   --------------------- ------------------ 30.7/56.8 MB 3.3 MB/s eta 0:00:08\n",
            "   --------------------- ------------------ 31.2/56.8 MB 3.3 MB/s eta 0:00:08\n",
            "   ---------------------- ----------------- 31.7/56.8 MB 3.3 MB/s eta 0:00:08\n",
            "   ---------------------- ----------------- 32.0/56.8 MB 3.3 MB/s eta 0:00:08\n",
            "   ---------------------- ----------------- 32.5/56.8 MB 3.2 MB/s eta 0:00:08\n",
            "   ----------------------- ---------------- 32.8/56.8 MB 3.2 MB/s eta 0:00:08\n",
            "   ----------------------- ---------------- 33.3/56.8 MB 3.2 MB/s eta 0:00:08\n",
            "   ----------------------- ---------------- 33.8/56.8 MB 3.2 MB/s eta 0:00:08\n",
            "   ------------------------ --------------- 34.3/56.8 MB 3.1 MB/s eta 0:00:08\n",
            "   ------------------------ --------------- 34.6/56.8 MB 3.1 MB/s eta 0:00:08\n",
            "   ------------------------ --------------- 35.1/56.8 MB 3.1 MB/s eta 0:00:07\n",
            "   ------------------------- -------------- 35.7/56.8 MB 3.1 MB/s eta 0:00:07\n",
            "   ------------------------- -------------- 35.9/56.8 MB 3.1 MB/s eta 0:00:07\n",
            "   ------------------------- -------------- 36.4/56.8 MB 3.0 MB/s eta 0:00:07\n",
            "   ------------------------- -------------- 36.7/56.8 MB 3.0 MB/s eta 0:00:07\n",
            "   -------------------------- ------------- 37.2/56.8 MB 3.0 MB/s eta 0:00:07\n",
            "   -------------------------- ------------- 37.7/56.8 MB 3.0 MB/s eta 0:00:07\n",
            "   -------------------------- ------------- 38.0/56.8 MB 3.0 MB/s eta 0:00:07\n",
            "   --------------------------- ------------ 38.5/56.8 MB 3.0 MB/s eta 0:00:07\n",
            "   --------------------------- ------------ 39.1/56.8 MB 3.0 MB/s eta 0:00:07\n",
            "   --------------------------- ------------ 39.6/56.8 MB 3.0 MB/s eta 0:00:06\n",
            "   ---------------------------- ----------- 40.1/56.8 MB 2.9 MB/s eta 0:00:06\n",
            "   ---------------------------- ----------- 40.6/56.8 MB 2.9 MB/s eta 0:00:06\n",
            "   ---------------------------- ----------- 41.2/56.8 MB 2.9 MB/s eta 0:00:06\n",
            "   ----------------------------- ---------- 41.7/56.8 MB 2.9 MB/s eta 0:00:06\n",
            "   ----------------------------- ---------- 41.9/56.8 MB 2.9 MB/s eta 0:00:06\n",
            "   ----------------------------- ---------- 42.5/56.8 MB 2.9 MB/s eta 0:00:05\n",
            "   ------------------------------ --------- 43.0/56.8 MB 2.9 MB/s eta 0:00:05\n",
            "   ------------------------------ --------- 43.5/56.8 MB 2.9 MB/s eta 0:00:05\n",
            "   ------------------------------ --------- 44.0/56.8 MB 2.9 MB/s eta 0:00:05\n",
            "   ------------------------------- -------- 44.6/56.8 MB 2.9 MB/s eta 0:00:05\n",
            "   ------------------------------- -------- 45.1/56.8 MB 2.9 MB/s eta 0:00:05\n",
            "   -------------------------------- ------- 45.6/56.8 MB 2.9 MB/s eta 0:00:04\n",
            "   -------------------------------- ------- 46.1/56.8 MB 2.9 MB/s eta 0:00:04\n",
            "   --------------------------------- ------ 46.9/56.8 MB 2.9 MB/s eta 0:00:04\n",
            "   --------------------------------- ------ 47.4/56.8 MB 2.9 MB/s eta 0:00:04\n",
            "   --------------------------------- ------ 48.0/56.8 MB 2.9 MB/s eta 0:00:04\n",
            "   ---------------------------------- ----- 48.5/56.8 MB 2.9 MB/s eta 0:00:03\n",
            "   ---------------------------------- ----- 49.3/56.8 MB 2.9 MB/s eta 0:00:03\n",
            "   ----------------------------------- ---- 49.8/56.8 MB 2.9 MB/s eta 0:00:03\n",
            "   ----------------------------------- ---- 50.6/56.8 MB 2.9 MB/s eta 0:00:03\n",
            "   ------------------------------------ --- 51.4/56.8 MB 2.9 MB/s eta 0:00:02\n",
            "   ------------------------------------ --- 52.2/56.8 MB 2.9 MB/s eta 0:00:02\n",
            "   ------------------------------------- -- 53.0/56.8 MB 2.9 MB/s eta 0:00:02\n",
            "   ------------------------------------- -- 53.7/56.8 MB 2.9 MB/s eta 0:00:02\n",
            "   -------------------------------------- - 54.3/56.8 MB 2.9 MB/s eta 0:00:01\n",
            "   -------------------------------------- - 55.3/56.8 MB 2.9 MB/s eta 0:00:01\n",
            "   ---------------------------------------  56.1/56.8 MB 2.9 MB/s eta 0:00:01\n",
            "   ---------------------------------------  56.6/56.8 MB 3.0 MB/s eta 0:00:01\n",
            "   ---------------------------------------- 56.8/56.8 MB 2.9 MB/s eta 0:00:00\n",
            "Downloading contourpy-1.3.3-cp311-cp311-win_amd64.whl (225 kB)\n",
            "Using cached cycler-0.12.1-py3-none-any.whl (8.3 kB)\n",
            "Downloading fonttools-4.60.0-cp311-cp311-win_amd64.whl (2.3 MB)\n",
            "   ---------------------------------------- 0.0/2.3 MB ? eta -:--:--\n",
            "   ------------- -------------------------- 0.8/2.3 MB 4.8 MB/s eta 0:00:01\n",
            "   -------------------------------- ------- 1.8/2.3 MB 4.4 MB/s eta 0:00:01\n",
            "   ---------------------------------------- 2.3/2.3 MB 4.3 MB/s eta 0:00:00\n",
            "Downloading kiwisolver-1.4.9-cp311-cp311-win_amd64.whl (73 kB)\n",
            "Downloading pillow-11.3.0-cp311-cp311-win_amd64.whl (7.0 MB)\n",
            "   ---------------------------------------- 0.0/7.0 MB ? eta -:--:--\n",
            "   ---- ----------------------------------- 0.8/7.0 MB 3.3 MB/s eta 0:00:02\n",
            "   --------- ------------------------------ 1.6/7.0 MB 3.8 MB/s eta 0:00:02\n",
            "   --------------- ------------------------ 2.6/7.0 MB 4.2 MB/s eta 0:00:02\n",
            "   ------------------- -------------------- 3.4/7.0 MB 4.4 MB/s eta 0:00:01\n",
            "   ------------------------- -------------- 4.5/7.0 MB 4.4 MB/s eta 0:00:01\n",
            "   ------------------------------- -------- 5.5/7.0 MB 4.5 MB/s eta 0:00:01\n",
            "   ------------------------------------- -- 6.6/7.0 MB 4.6 MB/s eta 0:00:01\n",
            "   ---------------------------------------- 7.0/7.0 MB 4.5 MB/s eta 0:00:00\n",
            "Using cached pyparsing-3.2.4-py3-none-any.whl (113 kB)\n",
            "Installing collected packages: pyparsing, pillow, kiwisolver, fonttools, cycler, contourpy, xgboost, matplotlib, seaborn\n",
            "\n",
            "   ---- ----------------------------------- 1/9 [pillow]\n",
            "   ---- ----------------------------------- 1/9 [pillow]\n",
            "   ---- ----------------------------------- 1/9 [pillow]\n",
            "   ---- ----------------------------------- 1/9 [pillow]\n",
            "   ------------- -------------------------- 3/9 [fonttools]\n",
            "   ------------- -------------------------- 3/9 [fonttools]\n",
            "   ------------- -------------------------- 3/9 [fonttools]\n",
            "   ------------- -------------------------- 3/9 [fonttools]\n",
            "   ------------- -------------------------- 3/9 [fonttools]\n",
            "   ------------- -------------------------- 3/9 [fonttools]\n",
            "   ------------- -------------------------- 3/9 [fonttools]\n",
            "   ------------- -------------------------- 3/9 [fonttools]\n",
            "   ------------- -------------------------- 3/9 [fonttools]\n",
            "   ------------- -------------------------- 3/9 [fonttools]\n",
            "   -------------------------- ------------- 6/9 [xgboost]\n",
            "   -------------------------- ------------- 6/9 [xgboost]\n",
            "   -------------------------- ------------- 6/9 [xgboost]\n",
            "   -------------------------- ------------- 6/9 [xgboost]\n",
            "   ------------------------------- -------- 7/9 [matplotlib]\n",
            "   ------------------------------- -------- 7/9 [matplotlib]\n",
            "   ------------------------------- -------- 7/9 [matplotlib]\n",
            "   ------------------------------- -------- 7/9 [matplotlib]\n",
            "   ------------------------------- -------- 7/9 [matplotlib]\n",
            "   ------------------------------- -------- 7/9 [matplotlib]\n",
            "   ------------------------------- -------- 7/9 [matplotlib]\n",
            "   ------------------------------- -------- 7/9 [matplotlib]\n",
            "   ------------------------------- -------- 7/9 [matplotlib]\n",
            "   ------------------------------- -------- 7/9 [matplotlib]\n",
            "   ------------------------------- -------- 7/9 [matplotlib]\n",
            "   ------------------------------- -------- 7/9 [matplotlib]\n",
            "   ------------------------------- -------- 7/9 [matplotlib]\n",
            "   ----------------------------------- ---- 8/9 [seaborn]\n",
            "   ----------------------------------- ---- 8/9 [seaborn]\n",
            "   ---------------------------------------- 9/9 [seaborn]\n",
            "\n",
            "Successfully installed contourpy-1.3.3 cycler-0.12.1 fonttools-4.60.0 kiwisolver-1.4.9 matplotlib-3.10.6 pillow-11.3.0 pyparsing-3.2.4 seaborn-0.13.2 xgboost-3.0.5\n",
            "Note: you may need to restart the kernel to use updated packages.\n"
          ]
        }
      ],
      "source": [
        "pip install matplotlib seaborn xgboost"
      ]
    },
    {
      "cell_type": "code",
      "execution_count": 12,
      "metadata": {
        "id": "A9_MB3JrDIg7"
      },
      "outputs": [],
      "source": [
        "df = pd.read_csv(r\"C:\\Users\\Jayanth Raj G\\OneDrive\\Documents\\student-backend\\app\\data\\students_cleaned.csv\")  # or students.csv\n",
        "features = [\"comprehension\", \"attention\", \"focus\", \"retention\", \"engagement_time\"]\n",
        "target = \"assessment_score\""
      ]
    },
    {
      "cell_type": "code",
      "execution_count": 16,
      "metadata": {
        "id": "xSzFCfLbDiWM"
      },
      "outputs": [],
      "source": [
        "X = df[features]\n",
        "y = df[target]"
      ]
    },
    {
      "cell_type": "code",
      "execution_count": 17,
      "metadata": {
        "id": "iFBrcsEWDkxL"
      },
      "outputs": [],
      "source": [
        "X_train, X_test, y_train, y_test = train_test_split(X, y, test_size=0.2, random_state=42)\n",
        "scaler = StandardScaler()\n",
        "# X_train_scaled = scaler.fit_transform(X_train)\n",
        "# X_test_scaled = scaler.transform(X_test)\n",
        "\n",
        "lin_model = Pipeline(steps=[\n",
        "    ('scaler', StandardScaler()),   # Handles scaling internally\n",
        "    ('regressor', LinearRegression())\n",
        "])"
      ]
    },
    {
      "cell_type": "code",
      "execution_count": 18,
      "metadata": {
        "id": "UWwY1AIDDmuO"
      },
      "outputs": [],
      "source": [
        "models = {\n",
        "    \"Linear Regression\": LinearRegression(),\n",
        "    \"Ridge Regression\": Ridge(alpha=1.0),\n",
        "    \"Lasso Regression\": Lasso(alpha=0.1),\n",
        "    \"Decision Tree\": DecisionTreeRegressor(random_state=42),\n",
        "    \"Random Forest\": RandomForestRegressor(n_estimators=100, random_state=42),\n",
        "    \"Gradient Boosting\": GradientBoostingRegressor(random_state=42),\n",
        "    \"Support Vector Regressor\": SVR(),\n",
        "    \"XGBoost\": XGBRegressor(n_estimators=100, random_state=42)\n",
        "}"
      ]
    },
    {
      "cell_type": "code",
      "execution_count": 19,
      "metadata": {
        "id": "dzNJC7X8Do6u"
      },
      "outputs": [],
      "source": [
        "results = []\n",
        "\n",
        "for name, model in models.items():\n",
        "    # Wrap scaling into a pipeline only for models sensitive to feature scaling\n",
        "    if name in [\"Linear Regression\", \"Ridge Regression\", \"Lasso Regression\", \"Support Vector Regressor\"]:\n",
        "        pipeline = Pipeline([\n",
        "            ('scaler', StandardScaler()),\n",
        "            ('regressor', model)\n",
        "        ])\n",
        "    else:\n",
        "        pipeline = model  # Tree-based or robust models don’t need scaling\n",
        "\n",
        "    # Train and predict\n",
        "    pipeline.fit(X_train, y_train)\n",
        "    y_pred = pipeline.predict(X_test)\n",
        "\n",
        "    # Evaluate metrics\n",
        "    r2 = r2_score(y_test, y_pred)\n",
        "    rmse = np.sqrt(mean_squared_error(y_test, y_pred))\n",
        "    cv_score = np.mean(cross_val_score(pipeline, X, y, cv=5))\n",
        "\n",
        "    results.append({\n",
        "        \"Model\": name,\n",
        "        \"R²\": r2,\n",
        "        \"RMSE\": rmse,\n",
        "        \"CV Score\": cv_score\n",
        "    })"
      ]
    },
    {
      "cell_type": "code",
      "execution_count": 20,
      "metadata": {
        "colab": {
          "base_uri": "https://localhost:8080/"
        },
        "id": "D1lGa1lkDqpK",
        "outputId": "d8e2653e-e228-4385-dc31-7ec21ec13fd2"
      },
      "outputs": [
        {
          "name": "stdout",
          "output_type": "stream",
          "text": [
            "📊 Model Performance Summary:\n",
            "                      Model        R²      RMSE  CV Score\n",
            "0         Linear Regression  0.829028  4.872676  0.817150\n",
            "1          Ridge Regression  0.829016  4.872856  0.817152\n",
            "2          Lasso Regression  0.828330  4.882625  0.816375\n",
            "5         Gradient Boosting  0.812728  5.099673  0.795704\n",
            "4             Random Forest  0.810583  5.128795  0.787345\n",
            "7                   XGBoost  0.778496  5.546208  0.749022\n",
            "6  Support Vector Regressor  0.726916  6.158201  0.762861\n",
            "3             Decision Tree  0.603047  7.424635  0.588758\n"
          ]
        }
      ],
      "source": [
        "results_df = pd.DataFrame(results).sort_values(by=\"R²\", ascending=False)\n",
        "print(\"📊 Model Performance Summary:\")\n",
        "print(results_df)"
      ]
    },
    {
      "cell_type": "code",
      "execution_count": 21,
      "metadata": {
        "colab": {
          "base_uri": "https://localhost:8080/",
          "height": 631
        },
        "id": "yv2dr3F-Ds5x",
        "outputId": "e0ddbb45-7912-4ce7-bfcf-fdea03045f4f"
      },
      "outputs": [
        {
          "name": "stderr",
          "output_type": "stream",
          "text": [
            "C:\\Users\\Jayanth Raj G\\AppData\\Local\\Temp\\ipykernel_25084\\3470544749.py:2: FutureWarning: \n",
            "\n",
            "Passing `palette` without assigning `hue` is deprecated and will be removed in v0.14.0. Assign the `y` variable to `hue` and set `legend=False` for the same effect.\n",
            "\n",
            "  sns.barplot(data=results_df, x=\"R²\", y=\"Model\", palette=\"viridis\")\n"
          ]
        },
        {
          "data": {
            "image/png": "[encoded data removed]",
            "text/plain": [
              "<Figure size 1000x600 with 1 Axes>"
            ]
          },
          "metadata": {},
          "output_type": "display_data"
        }
      ],
      "source": [
        "plt.figure(figsize=(10,6))\n",
        "sns.barplot(data=results_df, x=\"R²\", y=\"Model\", palette=\"viridis\")\n",
        "plt.title(\"Model Comparison by R² Score\")\n",
        "plt.show()\n"
      ]
    },
    {
      "cell_type": "code",
      "execution_count": 22,
      "metadata": {
        "colab": {
          "base_uri": "https://localhost:8080/",
          "height": 631
        },
        "id": "hQ4ijqLQDvMD",
        "outputId": "6dfdce7b-197e-4bef-e2bf-676b21c3e3bc"
      },
      "outputs": [
        {
          "name": "stderr",
          "output_type": "stream",
          "text": [
            "C:\\Users\\Jayanth Raj G\\AppData\\Local\\Temp\\ipykernel_25084\\1559732673.py:2: FutureWarning: \n",
            "\n",
            "Passing `palette` without assigning `hue` is deprecated and will be removed in v0.14.0. Assign the `y` variable to `hue` and set `legend=False` for the same effect.\n",
            "\n",
            "  sns.barplot(data=results_df, x=\"RMSE\", y=\"Model\", palette=\"magma\")\n"
          ]
        },
        {
          "data": {
            "image/png": "[encoded data removed]",
            "text/plain": [
              "<Figure size 1000x600 with 1 Axes>"
            ]
          },
          "metadata": {},
          "output_type": "display_data"
        }
      ],
      "source": [
        "plt.figure(figsize=(10,6))\n",
        "sns.barplot(data=results_df, x=\"RMSE\", y=\"Model\", palette=\"magma\")\n",
        "plt.title(\"Model Comparison by RMSE\")\n",
        "plt.show()"
      ]
    },
    {
      "cell_type": "code",
      "execution_count": 23,
      "metadata": {
        "colab": {
          "base_uri": "https://localhost:8080/"
        },
        "id": "HvokUXzcD24W",
        "outputId": "89538435-1677-4fe1-dabc-bb7fe80d2f23"
      },
      "outputs": [
        {
          "name": "stdout",
          "output_type": "stream",
          "text": [
            "🏆 Best Model: Linear Regression (R²: 0.829, RMSE: 4.873)\n"
          ]
        }
      ],
      "source": [
        "best_model = results_df.iloc[0]\n",
        "print(f\"🏆 Best Model: {best_model['Model']} (R²: {best_model['R²']:.3f}, RMSE: {best_model['RMSE']:.3f})\")"
      ]
    }
  ],
  "metadata": {
    "colab": {
      "provenance": []
    },
    "kernelspec": {
      "display_name": "fastapi-env",
      "language": "python",
      "name": "python3"
    },
    "language_info": {
      "codemirror_mode": {
        "name": "ipython",
        "version": 3
      },
      "file_extension": ".py",
      "mimetype": "text/x-python",
      "name": "python",
      "nbconvert_exporter": "python",
      "pygments_lexer": "ipython3",
      "version": "3.11.13"
    }
  },
  "nbformat": 4,
  "nbformat_minor": 0
}
